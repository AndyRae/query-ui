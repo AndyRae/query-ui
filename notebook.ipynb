{
 "cells": [
  {
   "cell_type": "code",
   "execution_count": 1,
   "id": "376a7e0e-228f-4166-bb02-46b9cced9201",
   "metadata": {},
   "outputs": [
    {
     "name": "stdout",
     "output_type": "stream",
     "text": [
      "[{'status': 'NOT_FOUND', 'timestamp': '05-03-2025 09:15:29', 'message': 'Job result not found', 'debugMessage': 'Job result not found'}, {'status': 'NOT_FOUND', 'timestamp': '05-03-2025 09:15:29', 'message': 'Job result not found', 'debugMessage': 'Job result not found'}, {'status': 'NOT_FOUND', 'timestamp': '05-03-2025 09:15:29', 'message': 'Job result not found', 'debugMessage': 'Job result not found'}, {'status': 'NOT_FOUND', 'timestamp': '05-03-2025 09:15:29', 'message': 'Job result not found', 'debugMessage': 'Job result not found'}]\n"
     ]
    }
   ],
   "source": [
    "from contingency_table_builder import ContingencyTableQuery\n",
    "from hutch_bunny.core.upstream.task_api_client import TaskApiClient\n",
    "from hutch_bunny.core.settings import get_settings, DaemonSettings"
   ]
  },
  {
   "cell_type": "code",
   "execution_count": null,
   "id": "dd1a33d2",
   "metadata": {},
   "outputs": [],
   "source": [
    "settings: DaemonSettings = get_settings(daemon=True)\n",
    "client = TaskApiClient(settings)"
   ]
  },
  {
   "cell_type": "code",
   "execution_count": null,
   "id": "4e6eb596",
   "metadata": {},
   "outputs": [],
   "source": [
    "# Create the contingency table query\n",
    "contingency_builder = ContingencyTableQuery(\n",
    "    exposure_omop_code=\"201820\",  # Diabetes mellitus\n",
    "    outcome_omop_code=\"316139\",  # Heart disease\n",
    "    exposure_table=\"Condition\",\n",
    "    outcome_table=\"Condition\",\n",
    ")"
   ]
  },
  {
   "cell_type": "code",
   "execution_count": null,
   "id": "490e237d",
   "metadata": {},
   "outputs": [],
   "source": [
    "# Execute queries and get job responses\n",
    "job_responses = contingency_builder.execute_queries(\n",
    "    client=client, collection_id=settings.COLLECTION_ID, owner=\"user1\"\n",
    ")"
   ]
  },
  {
   "cell_type": "code",
   "execution_count": null,
   "id": "904568bb",
   "metadata": {},
   "outputs": [],
   "source": [
    "# Fetch results\n",
    "results = contingency_builder.fetch_results(\n",
    "    settings.COLLECTION_ID, client, job_responses\n",
    ")\n",
    "\n",
    "print(results)\n"
   ]
  }
 ],
 "metadata": {
  "kernelspec": {
   "display_name": "Python 3 (ipykernel)",
   "language": "python",
   "name": "python3"
  },
  "language_info": {
   "codemirror_mode": {
    "name": "ipython",
    "version": 3
   },
   "file_extension": ".py",
   "mimetype": "text/x-python",
   "name": "python",
   "nbconvert_exporter": "python",
   "pygments_lexer": "ipython3",
   "version": "3.13.1"
  }
 },
 "nbformat": 4,
 "nbformat_minor": 5
}
